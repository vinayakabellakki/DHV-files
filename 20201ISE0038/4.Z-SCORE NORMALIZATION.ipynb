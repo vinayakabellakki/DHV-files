{
 "cells": [
  {
   "cell_type": "code",
   "execution_count": 3,
   "id": "76298ff4",
   "metadata": {},
   "outputs": [
    {
     "name": "stdout",
     "output_type": "stream",
     "text": [
      "Mean of the dataset is 2.6666666666666665\n",
      "Standard deviation is 3.3598941782277745\n",
      "Outlier in dataset is [15]\n"
     ]
    }
   ],
   "source": [
    "import numpy as np\n",
    "data = [1,2,2,2,3,1,1,15,2,2,2,3,1,1,2]\n",
    "mean = np.mean(data)\n",
    "std = np.std(data)\n",
    "print('Mean of the dataset is' ,mean)\n",
    "print('Standard deviation is' ,std)\n",
    "threshold = 3\n",
    "outlier = []\n",
    "for i in data:\n",
    "    z = (i-mean)/std\n",
    "    if z>threshold:\n",
    "        outlier.append(i)\n",
    "        print('Outlier in dataset is' ,outlier)"
   ]
  },
  {
   "cell_type": "code",
   "execution_count": 4,
   "id": "71a4eefa",
   "metadata": {},
   "outputs": [
    {
     "name": "stdout",
     "output_type": "stream",
     "text": [
      "Mean of the dataset is 46.93333333333333\n",
      "Standard deviation is 60.488529674825315\n",
      "Outlier in dataset is [233]\n"
     ]
    }
   ],
   "source": [
    "import numpy as np\n",
    "data = [41,26,25,21,38,19,1,157,27,24,233,37,17,13,25]\n",
    "mean = np.mean(data)\n",
    "std = np.std(data)\n",
    "print('Mean of the dataset is' ,mean)\n",
    "print('Standard deviation is' ,std)\n",
    "threshold = 3\n",
    "outlier = []\n",
    "for i in data:\n",
    "    z = (i-mean)/std\n",
    "    if z>threshold:\n",
    "        outlier.append(i)\n",
    "        print('Outlier in dataset is' ,outlier)"
   ]
  },
  {
   "cell_type": "code",
   "execution_count": null,
   "id": "87c4d4ce",
   "metadata": {},
   "outputs": [],
   "source": []
  }
 ],
 "metadata": {
  "kernelspec": {
   "display_name": "Python 3 (ipykernel)",
   "language": "python",
   "name": "python3"
  },
  "language_info": {
   "codemirror_mode": {
    "name": "ipython",
    "version": 3
   },
   "file_extension": ".py",
   "mimetype": "text/x-python",
   "name": "python",
   "nbconvert_exporter": "python",
   "pygments_lexer": "ipython3",
   "version": "3.9.13"
  }
 },
 "nbformat": 4,
 "nbformat_minor": 5
}
