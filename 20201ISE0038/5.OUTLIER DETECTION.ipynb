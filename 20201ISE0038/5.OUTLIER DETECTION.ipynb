{
  "nbformat": 4,
  "nbformat_minor": 0,
  "metadata": {
    "colab": {
      "provenance": []
    },
    "kernelspec": {
      "name": "python3",
      "display_name": "Python 3"
    },
    "language_info": {
      "name": "python"
    }
  },
  "cells": [
    {
      "cell_type": "code",
      "execution_count": null,
      "metadata": {
        "colab": {
          "base_uri": "https://localhost:8080/"
        },
        "id": "RtdL2cOYCwBK",
        "outputId": "cbdce29d-afff-4b77-b1f1-5f3521e518dc"
      },
      "outputs": [
        {
          "output_type": "stream",
          "name": "stdout",
          "text": [
            "mean of the dataset ids 2.6666666666666665\n",
            "std is 3.3598941782277745\n",
            "outlier in dataset is [15]\n"
          ]
        }
      ],
      "source": [
        "import numpy as np\n",
        "data= [1,2,2,2,3,1,1,15,2,2,2,3,1,1,2]\n",
        "mean= np.mean(data)\n",
        "std= np.std(data)\n",
        "print(\"mean of the dataset ids\", mean)\n",
        "print(\"std is\", std)\n",
        "threshold=3\n",
        "outlier=[]\n",
        "for i in data:\n",
        " z=(i-mean)/std\n",
        " if z>threshold:\n",
        "  outlier.append(i)\n",
        "  print(\"outlier in dataset is\", outlier)"
      ]
    },
    {
      "cell_type": "markdown",
      "source": [
        "Strating labsheets"
      ],
      "metadata": {
        "id": "eOLE10gkFWGZ"
      }
    },
    {
      "cell_type": "code",
      "source": [
        "import requests"
      ],
      "metadata": {
        "id": "0vGPThieFbIX"
      },
      "execution_count": null,
      "outputs": []
    },
    {
      "cell_type": "code",
      "source": [
        "pip install --upgrade 'library'"
      ],
      "metadata": {
        "colab": {
          "base_uri": "https://localhost:8080/"
        },
        "id": "ERPI5Xz0FiRa",
        "outputId": "57143241-4a69-46a7-9da0-7daa472d522a"
      },
      "execution_count": null,
      "outputs": [
        {
          "output_type": "stream",
          "name": "stdout",
          "text": [
            "Collecting library\n",
            "  Downloading Library-0.0.0.tar.gz (1.4 kB)\n",
            "  Preparing metadata (setup.py) ... \u001b[?25l\u001b[?25hdone\n",
            "Building wheels for collected packages: library\n",
            "  Building wheel for library (setup.py) ... \u001b[?25l\u001b[?25hdone\n",
            "  Created wheel for library: filename=Library-0.0.0-py3-none-any.whl size=2054 sha256=bff50854623545f3632a3b05f8cb48a7f3ae12ce62498365f444045989741204\n",
            "  Stored in directory: /root/.cache/pip/wheels/e0/71/7d/b0e29b944e43374597cd4e3b88c85197001c9bfcd5dce191f4\n",
            "Successfully built library\n",
            "Installing collected packages: library\n",
            "Successfully installed library-0.0.0\n"
          ]
        }
      ]
    },
    {
      "cell_type": "markdown",
      "source": [
        "the romechange website:"
      ],
      "metadata": {
        "id": "WQDdPY25GH-x"
      }
    },
    {
      "cell_type": "code",
      "source": [
        "r=requests.get('https://www.romexchange.com/')"
      ],
      "metadata": {
        "id": "23vtVqzwGNKQ"
      },
      "execution_count": null,
      "outputs": []
    },
    {
      "cell_type": "code",
      "source": [
        "r"
      ],
      "metadata": {
        "colab": {
          "base_uri": "https://localhost:8080/"
        },
        "id": "SXN2w8VxGfjI",
        "outputId": "b700670d-c7b6-49ae-8df4-5e2644cad0c4"
      },
      "execution_count": null,
      "outputs": [
        {
          "output_type": "execute_result",
          "data": {
            "text/plain": [
              "<Response [406]>"
            ]
          },
          "metadata": {},
          "execution_count": 7
        }
      ]
    },
    {
      "cell_type": "code",
      "source": [
        "r.status_code"
      ],
      "metadata": {
        "colab": {
          "base_uri": "https://localhost:8080/"
        },
        "id": "oeuAWacKGlSJ",
        "outputId": "02de3881-0216-4e11-f9f5-bd7892d78fb7"
      },
      "execution_count": null,
      "outputs": [
        {
          "output_type": "execute_result",
          "data": {
            "text/plain": [
              "406"
            ]
          },
          "metadata": {},
          "execution_count": 8
        }
      ]
    },
    {
      "cell_type": "code",
      "source": [
        "url='https://www.romexchange.com/'\n",
        "headers={'Content-type':'application/json'}"
      ],
      "metadata": {
        "id": "oBjsQIasG5gw"
      },
      "execution_count": null,
      "outputs": []
    },
    {
      "cell_type": "code",
      "source": [
        "url"
      ],
      "metadata": {
        "colab": {
          "base_uri": "https://localhost:8080/",
          "height": 35
        },
        "id": "G3-VNh4yHGqp",
        "outputId": "45c0ad77-24b8-4033-b86d-4b2f3ba31ba0"
      },
      "execution_count": null,
      "outputs": [
        {
          "output_type": "execute_result",
          "data": {
            "text/plain": [
              "'https://www.romexchange.com/'"
            ],
            "application/vnd.google.colaboratory.intrinsic+json": {
              "type": "string"
            }
          },
          "metadata": {},
          "execution_count": 10
        }
      ]
    },
    {
      "cell_type": "code",
      "source": [
        "headers"
      ],
      "metadata": {
        "colab": {
          "base_uri": "https://localhost:8080/"
        },
        "id": "iS4w5HjtHZ44",
        "outputId": "1569a87c-22d8-42e7-e985-d7b65dbf3bc9"
      },
      "execution_count": null,
      "outputs": [
        {
          "output_type": "execute_result",
          "data": {
            "text/plain": [
              "{'Content-type': 'application/json'}"
            ]
          },
          "metadata": {},
          "execution_count": 11
        }
      ]
    },
    {
      "cell_type": "code",
      "source": [
        "r=requests.get(url,headers=headers)"
      ],
      "metadata": {
        "id": "YwWZKh_hHcso"
      },
      "execution_count": null,
      "outputs": []
    },
    {
      "cell_type": "code",
      "source": [
        "url='https://www.romexchange.com/'\n",
        "headers={'User-Agent':'XY','Content-type':'application/json'}\n",
        "r=requests.get(url,headers=headers)"
      ],
      "metadata": {
        "id": "Ni_pnK4mJVao"
      },
      "execution_count": null,
      "outputs": []
    },
    {
      "cell_type": "code",
      "source": [
        "url"
      ],
      "metadata": {
        "colab": {
          "base_uri": "https://localhost:8080/",
          "height": 35
        },
        "id": "sWypp17nJf5Q",
        "outputId": "9dc81657-4821-4d73-a5f8-c6d2a95c580c"
      },
      "execution_count": null,
      "outputs": [
        {
          "output_type": "execute_result",
          "data": {
            "text/plain": [
              "'https://www.romexchange.com/'"
            ],
            "application/vnd.google.colaboratory.intrinsic+json": {
              "type": "string"
            }
          },
          "metadata": {},
          "execution_count": 14
        }
      ]
    },
    {
      "cell_type": "code",
      "source": [
        "headers"
      ],
      "metadata": {
        "colab": {
          "base_uri": "https://localhost:8080/"
        },
        "id": "q_Y3VtZQKFcI",
        "outputId": "4566a554-79b9-480c-9dec-9db7406963ad"
      },
      "execution_count": null,
      "outputs": [
        {
          "output_type": "execute_result",
          "data": {
            "text/plain": [
              "{'User-Agent': 'XY', 'Content-type': 'application/json'}"
            ]
          },
          "metadata": {},
          "execution_count": 15
        }
      ]
    },
    {
      "cell_type": "code",
      "source": [
        "r"
      ],
      "metadata": {
        "colab": {
          "base_uri": "https://localhost:8080/"
        },
        "id": "7oqcxUwuKH0Y",
        "outputId": "587707e6-e9f7-4870-ab05-bb3ceb953d99"
      },
      "execution_count": null,
      "outputs": [
        {
          "output_type": "execute_result",
          "data": {
            "text/plain": [
              "<Response [200]>"
            ]
          },
          "metadata": {},
          "execution_count": 16
        }
      ]
    },
    {
      "cell_type": "code",
      "source": [
        "r.status_code"
      ],
      "metadata": {
        "colab": {
          "base_uri": "https://localhost:8080/"
        },
        "id": "AIltnTFBKKBg",
        "outputId": "115ee7c3-d84d-464e-8349-50546e323321"
      },
      "execution_count": null,
      "outputs": [
        {
          "output_type": "execute_result",
          "data": {
            "text/plain": [
              "200"
            ]
          },
          "metadata": {},
          "execution_count": 17
        }
      ]
    },
    {
      "cell_type": "code",
      "source": [
        "url='https://www.romexchange.com/api?item=mastela&exact=false'\n",
        "headers={'User-Agent':'XY','Content-type':'application/json'}\n",
        "\n",
        "r=requests.get(url,headers=headers)\n",
        "r.status_code"
      ],
      "metadata": {
        "colab": {
          "base_uri": "https://localhost:8080/"
        },
        "id": "hBAlsRQzKwbw",
        "outputId": "a93f389b-ea6a-4551-8ad2-f3d61b28b962"
      },
      "execution_count": null,
      "outputs": [
        {
          "output_type": "execute_result",
          "data": {
            "text/plain": [
              "500"
            ]
          },
          "metadata": {},
          "execution_count": 18
        }
      ]
    },
    {
      "cell_type": "code",
      "source": [
        "r.text"
      ],
      "metadata": {
        "colab": {
          "base_uri": "https://localhost:8080/",
          "height": 35
        },
        "id": "BnbPnJoJLjOH",
        "outputId": "f0454c59-7bd5-40e0-b6dc-a3cf9f347a07"
      },
      "execution_count": null,
      "outputs": [
        {
          "output_type": "execute_result",
          "data": {
            "text/plain": [
              "''"
            ],
            "application/vnd.google.colaboratory.intrinsic+json": {
              "type": "string"
            }
          },
          "metadata": {},
          "execution_count": 19
        }
      ]
    }
  ]
}