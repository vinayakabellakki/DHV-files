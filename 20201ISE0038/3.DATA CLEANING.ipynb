{
 "cells": [
  {
   "cell_type": "code",
   "execution_count": 1,
   "id": "03745d6d",
   "metadata": {},
   "outputs": [
    {
     "name": "stdout",
     "output_type": "stream",
     "text": [
      "        one       two     three\n",
      "a  0.447414 -0.156942  0.798209\n",
      "c  1.266992 -1.194218 -0.402855\n",
      "e -0.647991  1.435391 -0.072793\n",
      "f -0.581821  1.038771 -0.776008\n",
      "h  0.686654 -1.064446  1.137672\n",
      "        one       two     three\n",
      "a  0.447414 -0.156942  0.798209\n",
      "b       NaN       NaN       NaN\n",
      "c  1.266992 -1.194218 -0.402855\n",
      "d       NaN       NaN       NaN\n",
      "e -0.647991  1.435391 -0.072793\n",
      "f -0.581821  1.038771 -0.776008\n",
      "g       NaN       NaN       NaN\n",
      "h  0.686654 -1.064446  1.137672\n"
     ]
    }
   ],
   "source": [
    "# import the pandas library\n",
    "import pandas as pd\n",
    "import numpy as np\n",
    "\n",
    "df = pd.DataFrame(np.random.randn(5, 3), index=['a', 'c', 'e', 'f',\n",
    "'h'],columns=['one', 'two', 'three'])\n",
    "print(df)\n",
    "df = df.reindex(['a', 'b', 'c', 'd', 'e', 'f', 'g', 'h'])\n",
    "\n",
    "print (df)"
   ]
  },
  {
   "cell_type": "code",
   "execution_count": 2,
   "id": "ba32935b",
   "metadata": {},
   "outputs": [
    {
     "name": "stdout",
     "output_type": "stream",
     "text": [
      "a    False\n",
      "b     True\n",
      "c    False\n",
      "d     True\n",
      "e    False\n",
      "f    False\n",
      "g     True\n",
      "h    False\n",
      "Name: one, dtype: bool\n"
     ]
    }
   ],
   "source": [
    "import pandas as pd\n",
    "import numpy as np\n",
    " \n",
    "df = pd.DataFrame(np.random.randn(5, 3), index=['a', 'c', 'e', 'f',\n",
    "'h'],columns=['one', 'two', 'three'])\n",
    "\n",
    "df = df.reindex(['a', 'b', 'c', 'd', 'e', 'f', 'g', 'h'])\n",
    "\n",
    "print (df['one'].isnull())"
   ]
  },
  {
   "cell_type": "code",
   "execution_count": 3,
   "id": "a6908cae",
   "metadata": {},
   "outputs": [
    {
     "name": "stdout",
     "output_type": "stream",
     "text": [
      "        one       two     three\n",
      "a  0.635750 -2.285400  0.248117\n",
      "b       NaN       NaN       NaN\n",
      "c -0.287978 -1.188414  1.378976\n",
      "NaN replaced with '0':\n",
      "        one       two     three\n",
      "a  0.635750 -2.285400  0.248117\n",
      "b  0.000000  0.000000  0.000000\n",
      "c -0.287978 -1.188414  1.378976\n"
     ]
    }
   ],
   "source": [
    "#Replace the missing values by 0\n",
    "import pandas as pd\n",
    "import numpy as np\n",
    "df = pd.DataFrame(np.random.randn(3, 3), index=['a', 'c', 'e'],columns=['one',\n",
    "'two', 'three'])\n",
    "df = df.reindex(['a', 'b', 'c'])\n",
    "print (df)\n",
    "print (\"NaN replaced with '0':\")\n",
    "print (df.fillna(0))"
   ]
  },
  {
   "cell_type": "code",
   "execution_count": 4,
   "id": "ee6c3f87",
   "metadata": {},
   "outputs": [
    {
     "name": "stdout",
     "output_type": "stream",
     "text": [
      "        one       two     three\n",
      "a -0.366934  0.335056 -0.193792\n",
      "b       NaN       NaN       NaN\n",
      "c  1.056679  0.756225  0.912214\n",
      "d       NaN       NaN       NaN\n",
      "e -0.377422  0.985928  1.222426\n",
      "f -0.929130 -0.094656 -0.679399\n",
      "g       NaN       NaN       NaN\n",
      "h  1.602288 -0.676405 -0.521540\n",
      "        one       two     three\n",
      "a -0.366934  0.335056 -0.193792\n",
      "b -0.366934  0.335056 -0.193792\n",
      "c  1.056679  0.756225  0.912214\n",
      "d  1.056679  0.756225  0.912214\n",
      "e -0.377422  0.985928  1.222426\n",
      "f -0.929130 -0.094656 -0.679399\n",
      "g -0.929130 -0.094656 -0.679399\n",
      "h  1.602288 -0.676405 -0.521540\n"
     ]
    }
   ],
   "source": [
    "import pandas as pd\n",
    "import numpy as np\n",
    "\n",
    "df = pd.DataFrame(np.random.randn(5, 3), index=['a', 'c', 'e', 'f',\n",
    "'h'],columns=['one', 'two', 'three'])\n",
    "df = df.reindex(['a', 'b', 'c', 'd', 'e', 'f', 'g', 'h'])\n",
    "print(df)\n",
    "print (df.fillna(method='pad'))"
   ]
  },
  {
   "cell_type": "code",
   "execution_count": 5,
   "id": "8b83ee1f",
   "metadata": {},
   "outputs": [
    {
     "name": "stdout",
     "output_type": "stream",
     "text": [
      "        one       two     three\n",
      "a -0.692098  1.531090  0.364882\n",
      "b -0.490656  0.770679  0.338704\n",
      "c -0.490656  0.770679  0.338704\n",
      "d -1.281391  0.103691 -0.117571\n",
      "e -1.281391  0.103691 -0.117571\n",
      "f -1.063626  0.533522  2.010359\n",
      "g  1.511229 -0.596010  2.030684\n",
      "h  1.511229 -0.596010  2.030684\n"
     ]
    }
   ],
   "source": [
    "import pandas as pd\n",
    "import numpy as np\n",
    "\n",
    "df = pd.DataFrame(np.random.randn(5, 3), index=['a', 'c', 'e', 'f',\n",
    "'h'],columns=['one', 'two', 'three'])\n",
    "df = df.reindex(['a', 'b', 'c', 'd', 'e', 'f', 'g', 'h'])\n",
    "\n",
    "print (df.fillna(method='bfill'))"
   ]
  },
  {
   "cell_type": "code",
   "execution_count": 6,
   "id": "e2bfc62e",
   "metadata": {},
   "outputs": [
    {
     "name": "stdout",
     "output_type": "stream",
     "text": [
      "        one       two     three\n",
      "a -1.215042  1.457607 -0.241829\n",
      "b       NaN       NaN       NaN\n",
      "c  1.454749 -0.087851  0.659018\n",
      "d       NaN       NaN       NaN\n",
      "e  1.132439 -0.333103  0.232882\n",
      "f  2.031967  0.474128 -0.456087\n",
      "g       NaN       NaN       NaN\n",
      "h  1.438924 -0.782758  1.578343\n",
      "        one       two     three\n",
      "a -1.215042  1.457607 -0.241829\n",
      "c  1.454749 -0.087851  0.659018\n",
      "e  1.132439 -0.333103  0.232882\n",
      "f  2.031967  0.474128 -0.456087\n",
      "h  1.438924 -0.782758  1.578343\n"
     ]
    }
   ],
   "source": [
    "import pandas as pd\n",
    "import numpy as np\n",
    "\n",
    "df = pd.DataFrame(np.random.randn(5, 3), index=['a', 'c', 'e', 'f',\n",
    "'h'],columns=['one', 'two', 'three'])\n",
    "#print(df)\n",
    "df = df.reindex(['a', 'b', 'c', 'd', 'e', 'f', 'g', 'h'])\n",
    "print(df)\n",
    "print (df.dropna())"
   ]
  },
  {
   "cell_type": "code",
   "execution_count": 7,
   "id": "9932db0c",
   "metadata": {},
   "outputs": [
    {
     "name": "stdout",
     "output_type": "stream",
     "text": [
      "    one   two\n",
      "0    10  1000\n",
      "1    20     0\n",
      "2    30    30\n",
      "3    40    40\n",
      "4    50    50\n",
      "5  2000    60\n",
      "   one  two\n",
      "0   10   10\n",
      "1   20    0\n",
      "2   30   30\n",
      "3   40   40\n",
      "4   50   50\n",
      "5   60   60\n"
     ]
    }
   ],
   "source": [
    "import pandas as pd\n",
    "import numpy as np\n",
    "df = pd.DataFrame({'one':[10,20,30,40,50,2000],\n",
    "'two':[1000,0,30,40,50,60]})\n",
    "print(df)\n",
    "print (df.replace({1000:10,2000:60}))"
   ]
  },
  {
   "cell_type": "code",
   "execution_count": null,
   "id": "96f044aa",
   "metadata": {},
   "outputs": [],
   "source": []
  }
 ],
 "metadata": {
  "kernelspec": {
   "display_name": "Python 3 (ipykernel)",
   "language": "python",
   "name": "python3"
  },
  "language_info": {
   "codemirror_mode": {
    "name": "ipython",
    "version": 3
   },
   "file_extension": ".py",
   "mimetype": "text/x-python",
   "name": "python",
   "nbconvert_exporter": "python",
   "pygments_lexer": "ipython3",
   "version": "3.9.13"
  }
 },
 "nbformat": 4,
 "nbformat_minor": 5
}
